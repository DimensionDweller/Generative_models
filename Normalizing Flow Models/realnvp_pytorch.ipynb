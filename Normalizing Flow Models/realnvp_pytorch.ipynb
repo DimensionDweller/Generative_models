{
 "cells": [
  {
   "cell_type": "code",
   "execution_count": 4,
   "metadata": {},
   "outputs": [
    {
     "name": "stdout",
     "output_type": "stream",
     "text": [
      "2.0.1\n",
      "0.15.1\n"
     ]
    },
    {
     "data": {
      "text/plain": [
       "device(type='mps')"
      ]
     },
     "execution_count": 4,
     "metadata": {},
     "output_type": "execute_result"
    }
   ],
   "source": [
    "import torch\n",
    "from torch import nn\n",
    "import torchvision\n",
    "from torchvision import datasets\n",
    "from torchvision import transforms\n",
    "from torch.utils.data import DataLoader, Dataset\n",
    "import torch.nn.functional as F\n",
    "from torchvision.datasets import ImageFolder\n",
    "from torchvision.transforms import Resize, ToTensor, Normalize\n",
    "from torch.utils.tensorboard import SummaryWriter\n",
    "import torchvision.transforms as tt\n",
    "import json\n",
    "import re\n",
    "import string\n",
    "from collections import Counter\n",
    "from torch.nn.utils.rnn import pad_sequence\n",
    "from torchtext.vocab import Vocab\n",
    "import torch\n",
    "from torchtext.data.utils import get_tokenizer\n",
    "from torchtext.vocab import build_vocab_from_iterator\n",
    "from torch.utils.data import DataLoader, Dataset\n",
    "from torch.nn.utils.rnn import pad_sequence\n",
    "\n",
    "# importing torch.optim and torch.nn.functional\n",
    "import torch.optim as optim\n",
    "from sklearn import datasets\n",
    "\n",
    "import matplotlib.pyplot as plt\n",
    "import numpy as np\n",
    "from sklearn.preprocessing import StandardScaler\n",
    "#from vae_utils import get_vector_from_label, add_vector_to_images, morph_faces\n",
    "\n",
    "print(torch.__version__)\n",
    "print(torchvision.__version__)\n",
    "\n",
    "# Create a SummaryWriter\n",
    "writer = SummaryWriter()\n",
    "\n",
    "device = torch.device(\"cuda:0\" if torch.cuda.is_available() else \"mps\")\n",
    "device"
   ]
  },
  {
   "cell_type": "code",
   "execution_count": 5,
   "metadata": {},
   "outputs": [],
   "source": [
    "COUPLING_DIM = 256\n",
    "COUPLING_LAYERS = 2\n",
    "INPUT_DIM = 2\n",
    "REGULARIZATION = 0.01\n",
    "BATCH_SIZE = 256\n",
    "EPOCHS = 300"
   ]
  },
  {
   "cell_type": "code",
   "execution_count": 6,
   "metadata": {},
   "outputs": [
    {
     "data": {
      "image/png": "[encoded data removed]",
      "text/plain": [
       "<Figure size 640x480 with 1 Axes>"
      ]
     },
     "metadata": {},
     "output_type": "display_data"
    }
   ],
   "source": [
    "data = datasets.make_moons(n_samples=30000, noise=.05)[0].astype(np.float32)\n",
    "\n",
    "scaler = StandardScaler()\n",
    "data = scaler.fit_transform(data)\n",
    "\n",
    "# converting to torch tensor\n",
    "normalized_data = torch.from_numpy(data)\n",
    "\n",
    "# plotting it on a scatter\n",
    "\n",
    "plt.scatter(normalized_data[:, 0], normalized_data[:, 1], s=10, c='b')\n",
    "plt.show()\n"
   ]
  },
  {
   "cell_type": "code",
   "execution_count": 9,
   "metadata": {},
   "outputs": [],
   "source": [
    "class Coupling(nn.Module):\n",
    "    def __init__(self, input_dim, coupling_dim, reg):\n",
    "        super(Coupling, self).__init__()\n",
    "        self.input_dim = input_dim\n",
    "        self.coupling_dim = coupling_dim\n",
    "        self.reg = reg\n",
    "        \n",
    "        self.s_layer_1 = nn.Linear(input_dim, coupling_dim)\n",
    "        self.s_layer_2 = nn.Linear(coupling_dim, coupling_dim)\n",
    "        self.s_layer_3 = nn.Linear(coupling_dim, coupling_dim)\n",
    "        self.s_layer_4 = nn.Linear(coupling_dim, coupling_dim)\n",
    "        self.s_layer_5 = nn.Linear(coupling_dim, input_dim)\n",
    "\n",
    "        self.t_layer_1 = nn.Linear(input_dim, coupling_dim)\n",
    "        self.t_layer_2 = nn.Linear(coupling_dim, coupling_dim)\n",
    "        self.t_layer_3 = nn.Linear(coupling_dim, coupling_dim)\n",
    "        self.t_layer_4 = nn.Linear(coupling_dim, coupling_dim)\n",
    "        self.t_layer_5 = nn.Linear(coupling_dim, input_dim)\n",
    "\n",
    "        self.relu = nn.ReLU()\n",
    "        self.tanh = nn.Tanh()\n",
    "\n",
    "    def forward(self, x):\n",
    "        s_layer_1_out = self.relu(self.s_layer_1(x))\n",
    "        s_layer_2_out = self.relu(self.s_layer_2(s_layer_1_out))\n",
    "        s_layer_3_out = self.relu(self.s_layer_3(s_layer_2_out))\n",
    "        s_layer_4_out = self.relu(self.s_layer_4(s_layer_3_out))\n",
    "        s_layer_5_out = self.tanh(self.s_layer_5(s_layer_4_out))\n",
    "\n",
    "        t_layer_1_out = self.relu(self.t_layer_1(x))\n",
    "        t_layer_2_out = self.relu(self.t_layer_2(t_layer_1_out))\n",
    "        t_layer_3_out = self.relu(self.t_layer_3(t_layer_2_out))\n",
    "        t_layer_4_out = self.relu(self.t_layer_4(t_layer_3_out))\n",
    "        t_layer_5_out = self.t_layer_5(t_layer_4_out)\n",
    "\n",
    "        return s_layer_5_out, t_layer_5_out\n",
    "    \n",
    "    def weight_decay_loss(self):\n",
    "        l2_reg = torch.tensor(0.0)\n",
    "        for name, param in self.named_parameters():\n",
    "            if 'weight' in name:\n",
    "                l2_reg += torch.norm(param, p=2)\n",
    "        return self.reg * l2_reg\n",
    "\n"
   ]
  },
  {
   "cell_type": "code",
   "execution_count": 12,
   "metadata": {},
   "outputs": [],
   "source": [
    "class RealNVP(nn.Module):\n",
    "    def __init__(self, input_dim, coupling_layers, coupling_dim, regularization):\n",
    "        super(RealNVP, self).__init__()\n",
    "        self.coupling_layers = coupling_layers\n",
    "        self.distribution = torch.distributions.multivariate_normal.MultivariateNormal(\n",
    "            torch.zeros(input_dim), torch.eye(input_dim)\n",
    "        )\n",
    "        self.masks = torch.tensor(\n",
    "            [[0, 1], [1, 0]] * (coupling_layers // 2), dtype=torch.float32\n",
    "        )\n",
    "        self.loss_tracker = nn.MSELoss()\n",
    "        self.layers_list = nn.ModuleList([\n",
    "            Coupling(input_dim, coupling_dim, regularization)\n",
    "            for i in range(coupling_layers)\n",
    "        ])\n",
    "\n",
    "    def forward(self, x, training=True):\n",
    "        log_det_inv = 0\n",
    "        direction = 1\n",
    "        if training:\n",
    "            direction = -1\n",
    "        for i in range(self.coupling_layers)[::direction]:\n",
    "            x_masked = x * self.masks[i]\n",
    "            reversed_mask = 1 - self.masks[i]\n",
    "            s, t = self.layers_list[i](x_masked)\n",
    "            s *= reversed_mask\n",
    "            t *= reversed_mask\n",
    "            gate = (direction - 1) / 2\n",
    "            x = (\n",
    "                reversed_mask\n",
    "                * (x * torch.exp(direction * s) + direction * t * torch.exp(gate * s))\n",
    "                + x_masked\n",
    "            )\n",
    "            log_det_inv += gate * torch.sum(s, dim=1)\n",
    "        return x, log_det_inv\n",
    "\n",
    "    def log_loss(self, x):\n",
    "        y, logdet = self(x)\n",
    "        log_likelihood = self.distribution.log_prob(y) + logdet\n",
    "        return -torch.mean(log_likelihood)"
   ]
  },
  {
   "cell_type": "code",
   "execution_count": null,
   "metadata": {},
   "outputs": [],
   "source": [
    "tensorboard_callback = callbacks.TensorBoard(log_dir=\"./logs\")\n",
    "\n",
    "\n",
    "class ImageGenerator(callbacks.Callback):\n",
    "    def __init__(self, num_samples):\n",
    "        self.num_samples = num_samples\n",
    "\n",
    "    def generate(self):\n",
    "        # From data to latent space.\n",
    "        z, _ = model(normalized_data)\n",
    "\n",
    "        # From latent space to data.\n",
    "        samples = model.distribution.sample(self.num_samples)\n",
    "        x, _ = model.predict(samples, verbose=0)\n",
    "\n",
    "        return x, z, samples\n",
    "\n",
    "    def display(self, x, z, samples, save_to=None):\n",
    "        f, axes = plt.subplots(2, 2)\n",
    "        f.set_size_inches(8, 5)\n",
    "\n",
    "        axes[0, 0].scatter(\n",
    "            normalized_data[:, 0], normalized_data[:, 1], color=\"r\", s=1\n",
    "        )\n",
    "        axes[0, 0].set(title=\"Data space X\", xlabel=\"x_1\", ylabel=\"x_2\")\n",
    "        axes[0, 0].set_xlim([-2, 2])\n",
    "        axes[0, 0].set_ylim([-2, 2])\n",
    "        axes[0, 1].scatter(z[:, 0], z[:, 1], color=\"r\", s=1)\n",
    "        axes[0, 1].set(title=\"f(X)\", xlabel=\"z_1\", ylabel=\"z_2\")\n",
    "        axes[0, 1].set_xlim([-2, 2])\n",
    "        axes[0, 1].set_ylim([-2, 2])\n",
    "        axes[1, 0].scatter(samples[:, 0], samples[:, 1], color=\"g\", s=1)\n",
    "        axes[1, 0].set(title=\"Latent space Z\", xlabel=\"z_1\", ylabel=\"z_2\")\n",
    "        axes[1, 0].set_xlim([-2, 2])\n",
    "        axes[1, 0].set_ylim([-2, 2])\n",
    "        axes[1, 1].scatter(x[:, 0], x[:, 1], color=\"g\", s=1)\n",
    "        axes[1, 1].set(title=\"g(Z)\", xlabel=\"x_1\", ylabel=\"x_2\")\n",
    "        axes[1, 1].set_xlim([-2, 2])\n",
    "        axes[1, 1].set_ylim([-2, 2])\n",
    "\n",
    "        plt.subplots_adjust(wspace=0.3, hspace=0.6)\n",
    "        if save_to:\n",
    "            plt.savefig(save_to)\n",
    "            print(f\"\\nSaved to {save_to}\")\n",
    "\n",
    "        plt.show()"
   ]
  },
  {
   "cell_type": "code",
   "execution_count": 13,
   "metadata": {},
   "outputs": [
    {
     "data": {
      "text/plain": [
       "RealNVP(\n",
       "  (loss_tracker): MSELoss()\n",
       "  (layers_list): ModuleList(\n",
       "    (0-1): 2 x Coupling(\n",
       "      (s_layer_1): Linear(in_features=2, out_features=256, bias=True)\n",
       "      (s_layer_2): Linear(in_features=256, out_features=256, bias=True)\n",
       "      (s_layer_3): Linear(in_features=256, out_features=256, bias=True)\n",
       "      (s_layer_4): Linear(in_features=256, out_features=256, bias=True)\n",
       "      (s_layer_5): Linear(in_features=256, out_features=2, bias=True)\n",
       "      (t_layer_1): Linear(in_features=2, out_features=256, bias=True)\n",
       "      (t_layer_2): Linear(in_features=256, out_features=256, bias=True)\n",
       "      (t_layer_3): Linear(in_features=256, out_features=256, bias=True)\n",
       "      (t_layer_4): Linear(in_features=256, out_features=256, bias=True)\n",
       "      (t_layer_5): Linear(in_features=256, out_features=2, bias=True)\n",
       "      (relu): ReLU()\n",
       "      (tanh): Tanh()\n",
       "    )\n",
       "  )\n",
       ")"
      ]
     },
     "execution_count": 13,
     "metadata": {},
     "output_type": "execute_result"
    }
   ],
   "source": [
    "model = RealNVP(INPUT_DIM, COUPLING_LAYERS, COUPLING_DIM, REGULARIZATION)\n",
    "model.to(device)"
   ]
  },
  {
   "cell_type": "code",
   "execution_count": null,
   "metadata": {},
   "outputs": [],
   "source": [
    "# setting optimizer\n",
    "model.optimizer = torch.optim.Adam(model.parameters(), lr=0.001)"
   ]
  }
 ],
 "metadata": {
  "kernelspec": {
   "display_name": "Python 3",
   "language": "python",
   "name": "python3"
  },
  "language_info": {
   "codemirror_mode": {
    "name": "ipython",
    "version": 3
   },
   "file_extension": ".py",
   "mimetype": "text/x-python",
   "name": "python",
   "nbconvert_exporter": "python",
   "pygments_lexer": "ipython3",
   "version": "3.11.2"
  },
  "orig_nbformat": 4
 },
 "nbformat": 4,
 "nbformat_minor": 2
}
